{
 "cells": [
  {
   "cell_type": "code",
   "execution_count": null,
   "id": "15f26f51-ab3c-484f-88d1-2bf128781907",
   "metadata": {},
   "outputs": [],
   "source": [
    "streamlit run front.py --server.port=1888"
   ]
  }
 ],
 "metadata": {
  "kernelspec": {
   "display_name": "Python 3 (ipykernel)",
   "language": "python",
   "name": "python3"
  },
  "language_info": {
   "codemirror_mode": {
    "name": "ipython",
    "version": 3
   },
   "file_extension": ".py",
   "mimetype": "text/x-python",
   "name": "python",
   "nbconvert_exporter": "python",
   "pygments_lexer": "ipython3",
   "version": "3.10.12"
  }
 },
 "nbformat": 4,
 "nbformat_minor": 5
}
